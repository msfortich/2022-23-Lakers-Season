{
 "cells": [
  {
   "cell_type": "markdown",
   "metadata": {},
   "source": [
    "<h1>Using Ball Dont Lie API<h1>"
   ]
  },
  {
   "cell_type": "code",
   "execution_count": 6,
   "metadata": {},
   "outputs": [],
   "source": [
    "import requests\n",
    "import pandas as pd\n",
    "import json"
   ]
  },
  {
   "cell_type": "code",
   "execution_count": 7,
   "metadata": {},
   "outputs": [
    {
     "data": {
      "text/plain": [
       "13    14\n",
       "Name: id, dtype: int64"
      ]
     },
     "execution_count": 7,
     "metadata": {},
     "output_type": "execute_result"
    }
   ],
   "source": [
    "ball_dont_lie_teams_url = 'https://www.balldontlie.io/api/v1/teams'\n",
    "response = requests.get(ball_dont_lie_teams_url)\n",
    "teams = response.json()['data']\n",
    "teams_df = pd.DataFrame(teams)\n",
    "\n",
    "# Getting Lakers ID to get game info\n",
    "la_lakers = teams_df.loc[teams_df['full_name'] == 'Los Angeles Lakers']\n",
    "la_lakers['id']\n"
   ]
  },
  {
   "cell_type": "markdown",
   "metadata": {},
   "source": [
    "**Creating a JSON File containing Lakers 2022-23 Game Info**"
   ]
  },
  {
   "cell_type": "code",
   "execution_count": 8,
   "metadata": {},
   "outputs": [],
   "source": [
    "games = 'https://www.balldontlie.io/api/v1/games'\n",
    "response = requests.get(games, params={\"per_page\": 100, \"team_ids[]\": 14, \"seasons[]\": 2022})\n",
    "laker_games_2022 = response.json()\n",
    "laker_games_2022\n",
    "with open('lakergames2022.json', 'w') as file:\n",
    "    json.dump(laker_games_2022, file)\n"
   ]
  },
  {
   "cell_type": "markdown",
   "metadata": {},
   "source": [
    "<h1>Using NBA API<h1>"
   ]
  },
  {
   "cell_type": "code",
   "execution_count": 9,
   "metadata": {},
   "outputs": [
    {
     "name": "stdout",
     "output_type": "stream",
     "text": [
      "10    1610612747\n",
      "Name: id, dtype: int64\n"
     ]
    }
   ],
   "source": [
    "from nba_api.stats.endpoints import TeamInfoCommon\n",
    "from nba_api.stats.static import teams\n",
    "import pandas as pd\n",
    "\n",
    "# NBA teams\n",
    "nba_teams = teams.get_teams()\n",
    "team = pd.DataFrame(nba_teams)\n",
    "\n",
    "# Lakers ID Number to get Game Stats\n",
    "lakers = team.loc[team['full_name'] == 'Los Angeles Lakers']\n",
    "print(lakers['id'])"
   ]
  },
  {
   "cell_type": "markdown",
   "metadata": {},
   "source": [
    "**Creating a CSV File containing Lakers 2022-23 Game Stats**"
   ]
  },
  {
   "cell_type": "code",
   "execution_count": 10,
   "metadata": {},
   "outputs": [],
   "source": [
    "from nba_api.stats.endpoints import TeamGameLogs\n",
    "\n",
    "gamedatapull = TeamGameLogs(\n",
    "        league_id_nullable ='00', # nba 00, g_league 20, wnba 10\n",
    "        team_id_nullable = '1610612747', # can specify a specific team_id\n",
    "        season_nullable = '2022-23',\n",
    "        season_type_nullable = 'Regular Season' # Regular Season, Playoffs, Pre Season\n",
    "    )\n",
    "    \n",
    "lakers_2022_stats = gamedatapull.get_data_frames()[0]\n",
    "lakers_2022_stats.to_csv(\"lakers_2022_stats.csv\")"
   ]
  },
  {
   "cell_type": "code",
   "execution_count": 1,
   "metadata": {},
   "outputs": [
    {
     "name": "stdout",
     "output_type": "stream",
     "text": [
      "Note: you may need to restart the kernel to use updated packages.\n"
     ]
    }
   ],
   "source": [
    "pip freeze >> requirements.txt"
   ]
  }
 ],
 "metadata": {
  "kernelspec": {
   "display_name": "Python 3",
   "language": "python",
   "name": "python3"
  },
  "language_info": {
   "codemirror_mode": {
    "name": "ipython",
    "version": 3
   },
   "file_extension": ".py",
   "mimetype": "text/x-python",
   "name": "python",
   "nbconvert_exporter": "python",
   "pygments_lexer": "ipython3",
   "version": "3.11.5"
  },
  "orig_nbformat": 4
 },
 "nbformat": 4,
 "nbformat_minor": 2
}
